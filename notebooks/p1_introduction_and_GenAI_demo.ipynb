{
 "cells": [
  {
   "cell_type": "markdown",
   "id": "2f0ae9ac-324e-40e9-b1b7-7f01bbcb5f61",
   "metadata": {
    "id": "84bf70f4-915d-4738-b78c-700b27b06f38"
   },
   "source": [
    "[![Open In Colab](https://colab.research.google.com/assets/colab-badge.svg)](https://colab.research.google.com/github/stefanlessmann/ESMT_IML/blob/main/notebooks/p1_introduction_and_GenAI_demo.ipynb)"
   ]
  },
  {
   "cell_type": "markdown",
   "id": "eed6a413-abf4-44b3-9a69-b1483eaad5e0",
   "metadata": {},
   "source": [
    "# Practical 1: Unsupervised learning and AI Peer-Programming\n",
    "Our first lecture introduced us to the different types of machine learning, their use cases, and underlying data structures. Given that the course focuses on supervised learning, we use this introductory practice session and shed, at least, some light on *unsupervised learning*.\n",
    "\n",
    "Further, we use this notebook to illustrate the capabilities of Generative AI (GenAI). More specifically, we examine how GenAI (e.g., ChatGPT), can help us develop Python codes. To that end, the notebook provides a set of prompts to generate Python codes. Your task is to try out these prompts using an AI of your choice and experiment with the generated programming codes. \n",
    "\n",
    "We suggest you begin with the prepared prompts. Afterwards, you are most welcome to make adjustments and examine how changes in your prompts change the generated codes; and by extension the effectiveness of the GenAI support. \n",
    "\n",
    "**Disclaimer** Prompts were tested with different versions of ChatGTP and should work reasonably well. That said, there is no guarantee that the provided prompts lead an AI to produce ready-to-use code. As said, one learning goal of this session is to *study how GenAI can help us*. We should not expect it to do all the work.\n",
    "\n",
    "Let's move on with the first prompt."
   ]
  },
  {
   "cell_type": "markdown",
   "id": "a112d3d7-842f-46c4-96c0-1055eeda8760",
   "metadata": {},
   "source": [
    "## Prompt 1: Cluster analysis\n",
    "Generate a Python script that demonstrates unsupervised machine learning using cluster analysis. Your script should perform the following tasks:\n",
    "1. Generate a synthetic data set. To facilitate visualization, restrict the data to two features. The synthetic data points should stem from different clusters, to ensure suitability of the data for a clustering demo. \n",
    "2. Visualize the data using a scatter plot. Use different symbols to distinguish data points from different clusters.\n",
    "3. Demonstrate how to run a clustering algorithm on the data\n",
    "4. Visualize the output of the clustering algorithm in a second plot. This plot should depict, the true cluster membership of each data point and to which cluster the data point was assigned by the clustering algorithm. Users shall easily see whether the algorithm assigned data points to the correct cluster.  \n",
    "\n",
    "Make sure the code is ready to be executed. For example, import all necessary libraries. Also make sure to annotate the code using comments for better comprehensibility. Also, the code should allow users to easily adjust the difficulty of the clustering task.\n",
    "\n"
   ]
  },
  {
   "cell_type": "markdown",
   "id": "a22ff4e9",
   "metadata": {},
   "source": [
    "#### Copy the generated codes into the below code cell and execute it:"
   ]
  },
  {
   "cell_type": "code",
   "execution_count": null,
   "id": "029746c3",
   "metadata": {},
   "outputs": [],
   "source": [
    "# Copy and run generated codes here"
   ]
  },
  {
   "cell_type": "markdown",
   "id": "bd7037b8",
   "metadata": {},
   "source": [
    "#### Code inspection\n",
    "As said, the above prompt should work reasonably well, meaning that, at this point, you should have codes for a clustering demo and the corresponding results in front of you.\n",
    "\n",
    " The above assumed, note how our prompt explicitly asked for a means to control the difficulty of the clustering task. Review the generated codes and find out how you can achieve this. Adjust the codes to increase the clustering task complexity and rerun them to verify everything worked out as expected. Feel free to repeat this exercise multiple time with various levels of task complexity. This should give you a good understanding of when the clustering algorithm works well and when it fails."
   ]
  },
  {
   "cell_type": "markdown",
   "id": "2a079559",
   "metadata": {},
   "source": [
    "#### Code revision\n",
    "It is safe to assume that the generated codes were not perfect. Did you spot any issue you think warrants improvement? \n",
    "Go back to your AI and try to make it generate better code. You can either revise the prompt or continue the 'discussion' with the AI and ask it to make improvements.  \n",
    "\n",
    "In case you did not spot any issue, you could feed the generated codes back into the AI and task it to suggest improvements. To do that, you could start your prompt like so:\n",
    "\n",
    "*Below is a snippet of Python code aimed at demonstrating unsupervised learning using clustering. Review the code and make suggestions for improvement.*\n",
    "``` Python\n",
    "{Copy the generated codes into the prompt}\n",
    "```\n"
   ]
  },
  {
   "cell_type": "code",
   "execution_count": 35,
   "id": "f574f900",
   "metadata": {},
   "outputs": [],
   "source": [
    "# Space to copy improved AI-generated codes to demonstrate clustering"
   ]
  },
  {
   "cell_type": "markdown",
   "id": "868eb81a",
   "metadata": {},
   "source": [
    "\n",
    "## Prompt 2: Dimensionality reduction\n",
    "The lecture also introduced another form of unsupervised learning, namely dimensionality reduction. With our second prepared prompt, we try to generate code that demonstrates how to perform dimensionality reduction in Python.\n",
    "\n",
    "**Suggested prompt:**"
   ]
  },
  {
   "cell_type": "markdown",
   "id": "800a26e3",
   "metadata": {},
   "source": [
    "\n",
    "Write a Python script that demonstrates unsupervised learning in the form of dimensionality reduction. Specifically, your script should perform the following tasks:\n",
    "\n",
    "1. Generate a synthetic, high-dimensional data set. The number of features should be a parameter that users can control easily. The data should  comprise a user-defined number of clusters.\n",
    "\n",
    "2. Demonstrate the application of an algorithm for dimensionality reduction. Select a suitable algorithm. Your algorithm should output a two-dimensional projection of the original data to facilitate visualization.\n",
    "\n",
    "3. Visualize the two-dimensional data set by means of a scatter plot. \n",
    "\n",
    "Make sure the generated code is ready to be executed by importing all relevant libraries.  Annotate your code for better readability."
   ]
  },
  {
   "cell_type": "code",
   "execution_count": 39,
   "id": "d86d26bc",
   "metadata": {},
   "outputs": [],
   "source": [
    "# Copy and execute generated code here:\n",
    "\n"
   ]
  },
  {
   "cell_type": "markdown",
   "id": "b3557178",
   "metadata": {},
   "source": [
    "## Programming task:\n",
    "If the prepared prompt worked as intended, your synthetic high-dimensional data set should comprise clusters. The 2D projection of the data should also show these clusters. Let's see whether we can also find these clusters in the original, high-dimensional data using a clustering algorithm.\n",
    "\n",
    "Specifically, drawing on the code generated in response to our first prompt, your task is to write a Python script that clusters your high-dimensional data set. \n",
    "\n",
    "We suggest you try to solve this task without the help of Gen-AI. \n",
    "\n",
    "*Additional task for the experts:* try to find a way to verify that the algorithm found the correct number of clusters. "
   ]
  },
  {
   "cell_type": "code",
   "execution_count": 40,
   "id": "bc8daf9e",
   "metadata": {},
   "outputs": [],
   "source": [
    "# Your solution goes here"
   ]
  }
 ],
 "metadata": {
  "kernelspec": {
   "display_name": "ipml",
   "language": "python",
   "name": "python3"
  },
  "language_info": {
   "codemirror_mode": {
    "name": "ipython",
    "version": 3
   },
   "file_extension": ".py",
   "mimetype": "text/x-python",
   "name": "python",
   "nbconvert_exporter": "python",
   "pygments_lexer": "ipython3",
   "version": "3.9.13"
  }
 },
 "nbformat": 4,
 "nbformat_minor": 5
}
